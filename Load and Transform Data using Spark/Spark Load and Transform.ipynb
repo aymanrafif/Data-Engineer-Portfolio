{
  "cells": [
    {
      "cell_type": "markdown",
      "metadata": {
        "id": "4PhCZlitSbCy"
      },
      "source": [
        "Session 23, Spark II Homework\n",
        "\n",
        "Musyaffa Ayman Rafif"
      ]
    },
    {
      "cell_type": "markdown",
      "metadata": {
        "id": "7oRg_EXSSiGm"
      },
      "source": [
        "# A. Preparation"
      ]
    },
    {
      "cell_type": "code",
      "execution_count": 1,
      "metadata": {
        "colab": {
          "base_uri": "https://localhost:8080/"
        },
        "id": "Hqb8YKzWST1D",
        "outputId": "0ae64765-6952-4da7-f81b-2eefce8c7537"
      },
      "outputs": [
        {
          "name": "stdout",
          "output_type": "stream",
          "text": [
            "^C\n"
          ]
        }
      ],
      "source": [
        "!pip install pyspark"
      ]
    },
    {
      "cell_type": "code",
      "execution_count": 2,
      "metadata": {
        "id": "znf6pJVJSmmZ"
      },
      "outputs": [],
      "source": [
        "from pyspark.sql import SparkSession\n",
        "from pyspark.sql.functions import *\n",
        "from pyspark.sql.types import *\n",
        "from google.colab import files"
      ]
    },
    {
      "cell_type": "code",
      "execution_count": 3,
      "metadata": {
        "colab": {
          "base_uri": "https://localhost:8080/",
          "height": 73
        },
        "id": "ipvrcLOdTgCg",
        "outputId": "56b1fac2-f46d-4fa0-a9fa-27390b8e0714"
      },
      "outputs": [
        {
          "data": {
            "text/html": [
              "\n",
              "     <input type=\"file\" id=\"files-9c512920-7ce7-40df-ae60-1b71a475f517\" name=\"files[]\" multiple disabled\n",
              "        style=\"border:none\" />\n",
              "     <output id=\"result-9c512920-7ce7-40df-ae60-1b71a475f517\">\n",
              "      Upload widget is only available when the cell has been executed in the\n",
              "      current browser session. Please rerun this cell to enable.\n",
              "      </output>\n",
              "      <script>// Copyright 2017 Google LLC\n",
              "//\n",
              "// Licensed under the Apache License, Version 2.0 (the \"License\");\n",
              "// you may not use this file except in compliance with the License.\n",
              "// You may obtain a copy of the License at\n",
              "//\n",
              "//      http://www.apache.org/licenses/LICENSE-2.0\n",
              "//\n",
              "// Unless required by applicable law or agreed to in writing, software\n",
              "// distributed under the License is distributed on an \"AS IS\" BASIS,\n",
              "// WITHOUT WARRANTIES OR CONDITIONS OF ANY KIND, either express or implied.\n",
              "// See the License for the specific language governing permissions and\n",
              "// limitations under the License.\n",
              "\n",
              "/**\n",
              " * @fileoverview Helpers for google.colab Python module.\n",
              " */\n",
              "(function(scope) {\n",
              "function span(text, styleAttributes = {}) {\n",
              "  const element = document.createElement('span');\n",
              "  element.textContent = text;\n",
              "  for (const key of Object.keys(styleAttributes)) {\n",
              "    element.style[key] = styleAttributes[key];\n",
              "  }\n",
              "  return element;\n",
              "}\n",
              "\n",
              "// Max number of bytes which will be uploaded at a time.\n",
              "const MAX_PAYLOAD_SIZE = 100 * 1024;\n",
              "\n",
              "function _uploadFiles(inputId, outputId) {\n",
              "  const steps = uploadFilesStep(inputId, outputId);\n",
              "  const outputElement = document.getElementById(outputId);\n",
              "  // Cache steps on the outputElement to make it available for the next call\n",
              "  // to uploadFilesContinue from Python.\n",
              "  outputElement.steps = steps;\n",
              "\n",
              "  return _uploadFilesContinue(outputId);\n",
              "}\n",
              "\n",
              "// This is roughly an async generator (not supported in the browser yet),\n",
              "// where there are multiple asynchronous steps and the Python side is going\n",
              "// to poll for completion of each step.\n",
              "// This uses a Promise to block the python side on completion of each step,\n",
              "// then passes the result of the previous step as the input to the next step.\n",
              "function _uploadFilesContinue(outputId) {\n",
              "  const outputElement = document.getElementById(outputId);\n",
              "  const steps = outputElement.steps;\n",
              "\n",
              "  const next = steps.next(outputElement.lastPromiseValue);\n",
              "  return Promise.resolve(next.value.promise).then((value) => {\n",
              "    // Cache the last promise value to make it available to the next\n",
              "    // step of the generator.\n",
              "    outputElement.lastPromiseValue = value;\n",
              "    return next.value.response;\n",
              "  });\n",
              "}\n",
              "\n",
              "/**\n",
              " * Generator function which is called between each async step of the upload\n",
              " * process.\n",
              " * @param {string} inputId Element ID of the input file picker element.\n",
              " * @param {string} outputId Element ID of the output display.\n",
              " * @return {!Iterable<!Object>} Iterable of next steps.\n",
              " */\n",
              "function* uploadFilesStep(inputId, outputId) {\n",
              "  const inputElement = document.getElementById(inputId);\n",
              "  inputElement.disabled = false;\n",
              "\n",
              "  const outputElement = document.getElementById(outputId);\n",
              "  outputElement.innerHTML = '';\n",
              "\n",
              "  const pickedPromise = new Promise((resolve) => {\n",
              "    inputElement.addEventListener('change', (e) => {\n",
              "      resolve(e.target.files);\n",
              "    });\n",
              "  });\n",
              "\n",
              "  const cancel = document.createElement('button');\n",
              "  inputElement.parentElement.appendChild(cancel);\n",
              "  cancel.textContent = 'Cancel upload';\n",
              "  const cancelPromise = new Promise((resolve) => {\n",
              "    cancel.onclick = () => {\n",
              "      resolve(null);\n",
              "    };\n",
              "  });\n",
              "\n",
              "  // Wait for the user to pick the files.\n",
              "  const files = yield {\n",
              "    promise: Promise.race([pickedPromise, cancelPromise]),\n",
              "    response: {\n",
              "      action: 'starting',\n",
              "    }\n",
              "  };\n",
              "\n",
              "  cancel.remove();\n",
              "\n",
              "  // Disable the input element since further picks are not allowed.\n",
              "  inputElement.disabled = true;\n",
              "\n",
              "  if (!files) {\n",
              "    return {\n",
              "      response: {\n",
              "        action: 'complete',\n",
              "      }\n",
              "    };\n",
              "  }\n",
              "\n",
              "  for (const file of files) {\n",
              "    const li = document.createElement('li');\n",
              "    li.append(span(file.name, {fontWeight: 'bold'}));\n",
              "    li.append(span(\n",
              "        `(${file.type || 'n/a'}) - ${file.size} bytes, ` +\n",
              "        `last modified: ${\n",
              "            file.lastModifiedDate ? file.lastModifiedDate.toLocaleDateString() :\n",
              "                                    'n/a'} - `));\n",
              "    const percent = span('0% done');\n",
              "    li.appendChild(percent);\n",
              "\n",
              "    outputElement.appendChild(li);\n",
              "\n",
              "    const fileDataPromise = new Promise((resolve) => {\n",
              "      const reader = new FileReader();\n",
              "      reader.onload = (e) => {\n",
              "        resolve(e.target.result);\n",
              "      };\n",
              "      reader.readAsArrayBuffer(file);\n",
              "    });\n",
              "    // Wait for the data to be ready.\n",
              "    let fileData = yield {\n",
              "      promise: fileDataPromise,\n",
              "      response: {\n",
              "        action: 'continue',\n",
              "      }\n",
              "    };\n",
              "\n",
              "    // Use a chunked sending to avoid message size limits. See b/62115660.\n",
              "    let position = 0;\n",
              "    do {\n",
              "      const length = Math.min(fileData.byteLength - position, MAX_PAYLOAD_SIZE);\n",
              "      const chunk = new Uint8Array(fileData, position, length);\n",
              "      position += length;\n",
              "\n",
              "      const base64 = btoa(String.fromCharCode.apply(null, chunk));\n",
              "      yield {\n",
              "        response: {\n",
              "          action: 'append',\n",
              "          file: file.name,\n",
              "          data: base64,\n",
              "        },\n",
              "      };\n",
              "\n",
              "      let percentDone = fileData.byteLength === 0 ?\n",
              "          100 :\n",
              "          Math.round((position / fileData.byteLength) * 100);\n",
              "      percent.textContent = `${percentDone}% done`;\n",
              "\n",
              "    } while (position < fileData.byteLength);\n",
              "  }\n",
              "\n",
              "  // All done.\n",
              "  yield {\n",
              "    response: {\n",
              "      action: 'complete',\n",
              "    }\n",
              "  };\n",
              "}\n",
              "\n",
              "scope.google = scope.google || {};\n",
              "scope.google.colab = scope.google.colab || {};\n",
              "scope.google.colab._files = {\n",
              "  _uploadFiles,\n",
              "  _uploadFilesContinue,\n",
              "};\n",
              "})(self);\n",
              "</script> "
            ],
            "text/plain": [
              "<IPython.core.display.HTML object>"
            ]
          },
          "metadata": {},
          "output_type": "display_data"
        },
        {
          "name": "stdout",
          "output_type": "stream",
          "text": [
            "Saving Dataset.zip to Dataset.zip\n"
          ]
        }
      ],
      "source": [
        "uploaded = files.upload()"
      ]
    },
    {
      "cell_type": "code",
      "execution_count": 4,
      "metadata": {
        "colab": {
          "base_uri": "https://localhost:8080/"
        },
        "id": "Ekj5oD6STwAF",
        "outputId": "bb21bc37-85a3-4d86-bcc7-da1945c0067e"
      },
      "outputs": [
        {
          "name": "stdout",
          "output_type": "stream",
          "text": [
            "Archive:  Dataset.zip\n",
            "   creating: Dataset/\n",
            " extracting: Dataset/cities1.csv     \n",
            "  inflating: Dataset/cities1_schema.csv  \n",
            " extracting: Dataset/cities2.csv     \n",
            "   creating: Dataset/exercise/\n",
            "  inflating: Dataset/exercise/AkunTwitter_POS.csv  \n",
            "  inflating: Dataset/exercise/HashtagTwitter_POS.csv  \n",
            "  inflating: Dataset/exercise/Instagram_POS.json  \n",
            "   creating: Dataset/json/\n",
            " extracting: Dataset/json/user1.json  \n",
            " extracting: Dataset/json/user2.json  \n",
            " extracting: Dataset/pcodes.csv      \n",
            "  inflating: Dataset/people-no-pcode.csv  \n",
            "  inflating: Dataset/purplecow.txt   \n",
            " extracting: Dataset/zcodes.csv      \n"
          ]
        }
      ],
      "source": [
        "!unzip Dataset.zip"
      ]
    },
    {
      "cell_type": "markdown",
      "metadata": {
        "id": "M72fn9B9T2wA"
      },
      "source": [
        "# Spark Initiation"
      ]
    },
    {
      "cell_type": "code",
      "execution_count": 5,
      "metadata": {
        "colab": {
          "base_uri": "https://localhost:8080/",
          "height": 219
        },
        "id": "CotuYv3lT1T8",
        "outputId": "d2528996-a0a7-446b-fcb4-ec9e77dcb4dc"
      },
      "outputs": [
        {
          "data": {
            "text/html": [
              "\n",
              "            <div>\n",
              "                <p><b>SparkSession - in-memory</b></p>\n",
              "                \n",
              "        <div>\n",
              "            <p><b>SparkContext</b></p>\n",
              "\n",
              "            <p><a href=\"http://5143ce624718:4040\">Spark UI</a></p>\n",
              "\n",
              "            <dl>\n",
              "              <dt>Version</dt>\n",
              "                <dd><code>v3.4.1</code></dd>\n",
              "              <dt>Master</dt>\n",
              "                <dd><code>local[*]</code></dd>\n",
              "              <dt>AppName</dt>\n",
              "                <dd><code>test</code></dd>\n",
              "            </dl>\n",
              "        </div>\n",
              "        \n",
              "            </div>\n",
              "        "
            ],
            "text/plain": [
              "<pyspark.sql.session.SparkSession at 0x7fa3dc1117e0>"
            ]
          },
          "execution_count": 5,
          "metadata": {},
          "output_type": "execute_result"
        }
      ],
      "source": [
        "spark = SparkSession \\\n",
        "    .builder \\\n",
        "    .master(\"local[*]\") \\\n",
        "    .appName(\"test\") \\\n",
        "    .getOrCreate()\n",
        "\n",
        "spark"
      ]
    },
    {
      "cell_type": "markdown",
      "metadata": {
        "id": "EmYxJH7kUGbJ"
      },
      "source": [
        "# Load Dataframe"
      ]
    },
    {
      "cell_type": "code",
      "execution_count": 6,
      "metadata": {
        "id": "wCPFXLtVT70d"
      },
      "outputs": [],
      "source": [
        "df_twitter_account = spark.read.format(\"csv\").option(\"header\",\"true\").option(\"inferSchema\", \"true\").load(\"Dataset/exercise/AkunTwitter_POS.csv\")\n",
        "df_hashtag_twitter = spark.read.format(\"csv\").option(\"header\",\"true\").option(\"inferSchema\", \"true\").load(\"Dataset/exercise/HashtagTwitter_POS.csv\")\n",
        "df_instagram = spark.read.format(\"json\").load(\"Dataset/exercise/Instagram_POS.json\")"
      ]
    },
    {
      "cell_type": "code",
      "execution_count": 7,
      "metadata": {
        "colab": {
          "base_uri": "https://localhost:8080/"
        },
        "id": "1E8DdJkSU5Fk",
        "outputId": "bf55e067-d9c5-49dc-b4a2-2e0be253fb06"
      },
      "outputs": [
        {
          "name": "stdout",
          "output_type": "stream",
          "text": [
            "+----------+---------------+----------+---------+-------------------+--------------------+---------+------------+-------------+-----+--------------------+------------+----+--------------------+-------------+--------------+-----------+--------------------+--------+--------------------+-------+---------+-----+----------+----+----+\n",
            "|        id|conversation_id|created_at|     date|               time|            timezone|  user_id|    username|         name|place|               tweet|    mentions|urls|              photos|replies_count|retweets_count|likes_count|            hashtags|cashtags|                link|retweet|quote_url|video|user_rt_id|near| geo|\n",
            "+----------+---------------+----------+---------+-------------------+--------------------+---------+------------+-------------+-----+--------------------+------------+----+--------------------+-------------+--------------+-----------+--------------------+--------+--------------------+-------+---------+-----+----------+----+----+\n",
            "| 1.1499E18|      1.1499E18|1.56299E12|7/13/2019|2023-08-26 11:44:07|SE Asia Standard ...|147137991|posindonesia|POS INDONESIA| null|Baik sahabat, tel...| ['bektifa']|  []|                  []|            1|             0|          0|                  []|      []|https://twitter.c...|   null|     null|    0|      null|null|null|\n",
            "| 1.1499E18|     1.14989E18|1.56299E12|7/13/2019|2023-08-26 11:22:35|SE Asia Standard ...|147137991|posindonesia|POS INDONESIA| null|Hai sahabat. Kiri...|['rendiez1']|  []|                  []|            0|             0|          0|                  []|      []|https://twitter.c...|   null|     null|    0|      null|null|null|\n",
            "| 1.1499E18|     9.70629E17|1.56299E12|7/13/2019|2023-08-26 11:20:05|SE Asia Standard ...|147137991|posindonesia|POS INDONESIA| null|/ handphone pener...| ['tutle21']|  []|                  []|            0|             0|          0|                  []|      []|https://twitter.c...|   null|     null|    0|      null|null|null|\n",
            "| 1.1499E18|     9.70629E17|1.56299E12|7/13/2019|2023-08-26 11:19:59|SE Asia Standard ...|147137991|posindonesia|POS INDONESIA| null|Hai sahabat, kiri...| ['tutle21']|  []|                  []|            0|             0|          0|                  []|      []|https://twitter.c...|   null|     null|    0|      null|null|null|\n",
            "|1.14989E18|     1.14989E18|1.56299E12|7/13/2019|2023-08-26 11:07:58|SE Asia Standard ...|147137991|posindonesia|POS INDONESIA| null|Oranger menjaga s...|          []|  []|['https://pbs.twi...|            0|             0|          1|['#posinaja', '#b...|      []|https://twitter.c...|   null|     null|    0|      null|null|null|\n",
            "+----------+---------------+----------+---------+-------------------+--------------------+---------+------------+-------------+-----+--------------------+------------+----+--------------------+-------------+--------------+-----------+--------------------+--------+--------------------+-------+---------+-----+----------+----+----+\n",
            "only showing top 5 rows\n",
            "\n"
          ]
        }
      ],
      "source": [
        "df_twitter_account.show(5)"
      ]
    },
    {
      "cell_type": "code",
      "execution_count": 8,
      "metadata": {
        "colab": {
          "base_uri": "https://localhost:8080/"
        },
        "id": "c2yScZV1U-1D",
        "outputId": "8a10c500-cbf8-4630-af61-1630488debe3"
      },
      "outputs": [
        {
          "name": "stdout",
          "output_type": "stream",
          "text": [
            "+--------+---------------+----------+---------+--------+--------------------+------------+------------+--------------------+-----+--------------------+----------------+--------------------+--------------------+-------------+--------------+-----------+--------------------+--------+--------------------+-------+---------+-----+----------+----+----+\n",
            "|      id|conversation_id|created_at|     date|    time|            timezone|     user_id|    username|                name|place|               tweet|        mentions|                urls|              photos|replies_count|retweets_count|likes_count|            hashtags|cashtags|                link|retweet|quote_url|video|user_rt_id|near| geo|\n",
            "+--------+---------------+----------+---------+--------+--------------------+------------+------------+--------------------+-----+--------------------+----------------+--------------------+--------------------+-------------+--------------+-----------+--------------------+--------+--------------------+-------+---------+-----+----------+----+----+\n",
            "|1.15E+18|       1.15E+18|  1.56E+12|7/13/2019| 9:49:32|SE Asia Standard ...|     8.63E17|kantorpospbg|KantorPosPurbalingga| null|Ada Kiriman Uang?...|              []|['https://www.ins...|                  []|            0|             0|          0|['#bumnhadiruntuk...|      []|https://twitter.c...|   null|     null|    0|      null|null|null|\n",
            "|1.15E+18|       1.15E+18|  1.56E+12|7/12/2019|20:35:22|SE Asia Standard ...| 6.9183155E7|    detikcom|            detikcom| null|Resi Pos merupaka...|['detikfinance']|['https://finance...|                  []|            3|            16|         46|['#posindonesia',...|      []|https://twitter.c...|   null|     null|    0|      null|null|null|\n",
            "|1.15E+18|       1.15E+18|  1.56E+12|7/12/2019|16:55:01|SE Asia Standard ...|1.47137991E8|posindonesia|       POS INDONESIA| null|Oranger, layanan ...|              []|                  []|['https://pbs.twi...|            0|             1|          3|['#orangerinaja',...|      []|https://twitter.c...|   null|     null|    0|      null|null|null|\n",
            "|1.15E+18|       1.15E+18|  1.56E+12|7/11/2019| 9:27:02|SE Asia Standard ...|     1.09E18|      k59300|Kantor Pos Kudus ...| null|#Repost posindone...|              []|['https://www.ins...|                  []|            0|             0|          0|['#repost', '#pos...|      []|https://twitter.c...|   null|     null|    0|      null|null|null|\n",
            "|1.15E+18|       1.15E+18|  1.56E+12|7/10/2019|17:46:01|SE Asia Standard ...|1.47137991E8|posindonesia|       POS INDONESIA| null|Kiriman lewat Pos...|              []|                  []|['https://pbs.twi...|            5|             4|          4|['#posinaja', '#l...|      []|https://twitter.c...|   null|     null|    0|      null|null|null|\n",
            "+--------+---------------+----------+---------+--------+--------------------+------------+------------+--------------------+-----+--------------------+----------------+--------------------+--------------------+-------------+--------------+-----------+--------------------+--------+--------------------+-------+---------+-----+----------+----+----+\n",
            "only showing top 5 rows\n",
            "\n"
          ]
        }
      ],
      "source": [
        "df_hashtag_twitter.show(5)"
      ]
    },
    {
      "cell_type": "code",
      "execution_count": 9,
      "metadata": {
        "colab": {
          "base_uri": "https://localhost:8080/"
        },
        "id": "ZOLnun1vVBkb",
        "outputId": "21ee5021-3f3b-474b-f83c-27f0f13cfa11"
      },
      "outputs": [
        {
          "name": "stdout",
          "output_type": "stream",
          "text": [
            "+--------------------+--------------------+--------------------+--------------------+--------------------+\n",
            "|             caption|            comments|            datetime|            img_urls|                 key|\n",
            "+--------------------+--------------------+--------------------+--------------------+--------------------+\n",
            "|Oranger menjaga s...|[{mamah.asyraf, C...|2019-07-13T04:06:...|[https://scontent...|https://www.insta...|\n",
            "|Oranger, layanan ...|[{rizqimuhammad77...|2019-07-12T09:55:...|[https://scontent...|https://www.insta...|\n",
            "|Selamat hari kope...|[{evan_mardiyanto...|2019-07-12T02:21:...|[https://scontent...|https://www.insta...|\n",
            "|Kuliah? di @polte...|[{dicky.ra_, @pos...|2019-07-11T05:19:...|[https://scontent...|https://www.insta...|\n",
            "|Selamat ulang tah...|[{hey.rudd, Kak.....|2019-07-11T01:22:...|[https://scontent...|https://www.insta...|\n",
            "+--------------------+--------------------+--------------------+--------------------+--------------------+\n",
            "only showing top 5 rows\n",
            "\n"
          ]
        }
      ],
      "source": [
        "df_instagram.show(5)"
      ]
    },
    {
      "cell_type": "markdown",
      "metadata": {
        "id": "jgac5_YAg25F"
      },
      "source": [
        "# Working With the DataFrame"
      ]
    },
    {
      "cell_type": "markdown",
      "metadata": {
        "id": "L9QMOETsZfLP"
      },
      "source": [
        "## Check Schema"
      ]
    },
    {
      "cell_type": "code",
      "execution_count": 10,
      "metadata": {
        "colab": {
          "base_uri": "https://localhost:8080/"
        },
        "id": "PSIxC-rMZhw-",
        "outputId": "d862ff5d-ce4d-4564-be39-5de718b9fcba"
      },
      "outputs": [
        {
          "name": "stdout",
          "output_type": "stream",
          "text": [
            "root\n",
            " |-- id: double (nullable = true)\n",
            " |-- conversation_id: double (nullable = true)\n",
            " |-- created_at: double (nullable = true)\n",
            " |-- date: string (nullable = true)\n",
            " |-- time: timestamp (nullable = true)\n",
            " |-- timezone: string (nullable = true)\n",
            " |-- user_id: integer (nullable = true)\n",
            " |-- username: string (nullable = true)\n",
            " |-- name: string (nullable = true)\n",
            " |-- place: string (nullable = true)\n",
            " |-- tweet: string (nullable = true)\n",
            " |-- mentions: string (nullable = true)\n",
            " |-- urls: string (nullable = true)\n",
            " |-- photos: string (nullable = true)\n",
            " |-- replies_count: string (nullable = true)\n",
            " |-- retweets_count: string (nullable = true)\n",
            " |-- likes_count: string (nullable = true)\n",
            " |-- hashtags: string (nullable = true)\n",
            " |-- cashtags: string (nullable = true)\n",
            " |-- link: string (nullable = true)\n",
            " |-- retweet: string (nullable = true)\n",
            " |-- quote_url: string (nullable = true)\n",
            " |-- video: string (nullable = true)\n",
            " |-- user_rt_id: string (nullable = true)\n",
            " |-- near: string (nullable = true)\n",
            " |-- geo: string (nullable = true)\n",
            "\n"
          ]
        }
      ],
      "source": [
        "df_twitter_account.printSchema()"
      ]
    },
    {
      "cell_type": "code",
      "execution_count": 11,
      "metadata": {
        "colab": {
          "base_uri": "https://localhost:8080/"
        },
        "id": "M-UUBDrqZkqf",
        "outputId": "29c0ef2b-cf71-40de-9f8f-af8e0ab24c35"
      },
      "outputs": [
        {
          "name": "stdout",
          "output_type": "stream",
          "text": [
            "root\n",
            " |-- id: string (nullable = true)\n",
            " |-- conversation_id: string (nullable = true)\n",
            " |-- created_at: string (nullable = true)\n",
            " |-- date: string (nullable = true)\n",
            " |-- time: string (nullable = true)\n",
            " |-- timezone: string (nullable = true)\n",
            " |-- user_id: double (nullable = true)\n",
            " |-- username: string (nullable = true)\n",
            " |-- name: string (nullable = true)\n",
            " |-- place: string (nullable = true)\n",
            " |-- tweet: string (nullable = true)\n",
            " |-- mentions: string (nullable = true)\n",
            " |-- urls: string (nullable = true)\n",
            " |-- photos: string (nullable = true)\n",
            " |-- replies_count: string (nullable = true)\n",
            " |-- retweets_count: string (nullable = true)\n",
            " |-- likes_count: string (nullable = true)\n",
            " |-- hashtags: string (nullable = true)\n",
            " |-- cashtags: string (nullable = true)\n",
            " |-- link: string (nullable = true)\n",
            " |-- retweet: string (nullable = true)\n",
            " |-- quote_url: string (nullable = true)\n",
            " |-- video: string (nullable = true)\n",
            " |-- user_rt_id: string (nullable = true)\n",
            " |-- near: string (nullable = true)\n",
            " |-- geo: integer (nullable = true)\n",
            "\n"
          ]
        }
      ],
      "source": [
        "df_hashtag_twitter.printSchema()"
      ]
    },
    {
      "cell_type": "code",
      "execution_count": 12,
      "metadata": {
        "colab": {
          "base_uri": "https://localhost:8080/"
        },
        "id": "k7ylX4_kZrBH",
        "outputId": "c9e31a20-e44d-4bb9-8a65-da0c42878ab7"
      },
      "outputs": [
        {
          "name": "stdout",
          "output_type": "stream",
          "text": [
            "root\n",
            " |-- caption: string (nullable = true)\n",
            " |-- comments: array (nullable = true)\n",
            " |    |-- element: struct (containsNull = true)\n",
            " |    |    |-- author: string (nullable = true)\n",
            " |    |    |-- comment: string (nullable = true)\n",
            " |-- datetime: string (nullable = true)\n",
            " |-- img_urls: array (nullable = true)\n",
            " |    |-- element: string (containsNull = true)\n",
            " |-- key: string (nullable = true)\n",
            "\n"
          ]
        }
      ],
      "source": [
        "df_instagram.printSchema()"
      ]
    },
    {
      "cell_type": "markdown",
      "metadata": {
        "id": "zOQs3HdaajNU"
      },
      "source": [
        "## Split Multiple Array Columns into Rows in `df_instagram`"
      ]
    },
    {
      "cell_type": "code",
      "execution_count": 13,
      "metadata": {
        "id": "LSraD-myftGX"
      },
      "outputs": [],
      "source": [
        "def FlatDF(schema, prefix=None):\n",
        "        fields = []\n",
        "        for field in schema.fields:\n",
        "            name = prefix + '.' + field.name if prefix else field.name\n",
        "            dtype = field.dataType\n",
        "            if isinstance(dtype, ArrayType):\n",
        "                dtype = dtype.elementType\n",
        "\n",
        "            if isinstance(dtype, StructType):\n",
        "                fields += FlatDF(dtype, prefix=name)\n",
        "            else:\n",
        "                fields.append(name)\n",
        "\n",
        "        return fields\n",
        "\n",
        "df_instagram = df_instagram.select(FlatDF(df_instagram.schema))"
      ]
    },
    {
      "cell_type": "code",
      "execution_count": 14,
      "metadata": {
        "id": "nAuJkfmFZvKo"
      },
      "outputs": [],
      "source": [
        "from pyspark.sql.functions import arrays_zip"
      ]
    },
    {
      "cell_type": "code",
      "execution_count": 15,
      "metadata": {
        "colab": {
          "base_uri": "https://localhost:8080/"
        },
        "id": "ST9BtVGEbD4-",
        "outputId": "ff927b7e-e088-4d8f-8fa4-2a4a15ec0b4f"
      },
      "outputs": [
        {
          "name": "stdout",
          "output_type": "stream",
          "text": [
            "+--------------------+--------------------+--------------------+--------------------+--------------------+--------------------+\n",
            "|             caption|              author|             comment|            datetime|            img_urls|                 key|\n",
            "+--------------------+--------------------+--------------------+--------------------+--------------------+--------------------+\n",
            "|Oranger menjaga s...|[mamah.asyraf, po...|[Cek DM, Baik, Sa...|2019-07-13T04:06:...|[https://scontent...|https://www.insta...|\n",
            "|Oranger, layanan ...|[rizqimuhammad77,...|[@ari_hr04 @adi04...|2019-07-12T09:55:...|[https://scontent...|https://www.insta...|\n",
            "|Selamat hari kope...|[evan_mardiyanto,...|[Min mohon segera...|2019-07-12T02:21:...|[https://scontent...|https://www.insta...|\n",
            "+--------------------+--------------------+--------------------+--------------------+--------------------+--------------------+\n",
            "only showing top 3 rows\n",
            "\n"
          ]
        }
      ],
      "source": [
        "df_instagram.show(3)"
      ]
    },
    {
      "cell_type": "code",
      "execution_count": 16,
      "metadata": {
        "colab": {
          "base_uri": "https://localhost:8080/"
        },
        "id": "wioCiUl7fQDT",
        "outputId": "ff0b4589-61dd-484b-f0d8-9da023de2d91"
      },
      "outputs": [
        {
          "name": "stdout",
          "output_type": "stream",
          "text": [
            "+--------------------+-------------------+--------------------+\n",
            "|             caption|             author|             comment|\n",
            "+--------------------+-------------------+--------------------+\n",
            "|Oranger menjaga s...|       mamah.asyraf|              Cek DM|\n",
            "|Oranger menjaga s...|    posindonesia.ig|Baik, Sahabat, mo...|\n",
            "|Oranger menjaga s...|    akhirini_husein|Kiriman saya tida...|\n",
            "|Oranger menjaga s...|    posindonesia.ig|Halo, Sahabat, bi...|\n",
            "|Oranger menjaga s...|             figha_|Pengambilan paket...|\n",
            "|Oranger menjaga s...|    posindonesia.ig|Halo, Sahabat. Mo...|\n",
            "|Oranger menjaga s...|             figha_|@posindonesia.ig ...|\n",
            "|Oranger menjaga s...|    posindonesia.ig|Sama-sama Sahabat...|\n",
            "|Oranger menjaga s...|       phytastoreso|Kak tolong cek dm...|\n",
            "|Oranger menjaga s...|    posindonesia.ig|Baik, telah kami ...|\n",
            "|Oranger menjaga s...|             figha_|Kalo mengambil pa...|\n",
            "|Oranger, layanan ...|    rizqimuhammad77|@ari_hr04 @adi047...|\n",
            "|Oranger, layanan ...|griyakulakannganjuk|Kirim paket belum...|\n",
            "|Oranger, layanan ...|             snttaa|Tolong cek STR040...|\n",
            "|Oranger, layanan ...|           widie489|https://ecoracing...|\n",
            "|Oranger, layanan ...|    posindonesia.ig|Boleh diinformasi...|\n",
            "|Oranger, layanan ...|    posindonesia.ig|Menurut investiga...|\n",
            "|Oranger, layanan ...|   keziacatherine.s|Min, bis Surat su...|\n",
            "|Oranger, layanan ...|    posindonesia.ig|Bisa surat masih ...|\n",
            "|Oranger, layanan ...|      audreygraciam|Hi min, tolong li...|\n",
            "+--------------------+-------------------+--------------------+\n",
            "only showing top 20 rows\n",
            "\n"
          ]
        }
      ],
      "source": [
        "df_instagram.withColumn(\"ac\", arrays_zip(\"author\", \"comment\")).select(\"caption\", explode(\"ac\").alias(\"tac\")).select(\"caption\", \"tac.author\",col(\"tac.comment\")).show()"
      ]
    },
    {
      "cell_type": "code",
      "execution_count": 17,
      "metadata": {
        "id": "inVJq3sNgNXv"
      },
      "outputs": [],
      "source": [
        "df_instagram_split = df_instagram.withColumn(\"ac\", arrays_zip(\"author\", \"comment\")).select(\"caption\", explode(\"ac\").alias(\"tac\")).select(\"caption\", \"tac.author\",col(\"tac.comment\"))"
      ]
    },
    {
      "cell_type": "code",
      "execution_count": 32,
      "metadata": {
        "colab": {
          "base_uri": "https://localhost:8080/"
        },
        "id": "_t6x6lXxgnOD",
        "outputId": "72569f15-2e9a-4de7-bdd1-e694a2fdb6fc"
      },
      "outputs": [
        {
          "name": "stdout",
          "output_type": "stream",
          "text": [
            "+---------------+--------------------+---------+\n",
            "|         author|             comment|   socmed|\n",
            "+---------------+--------------------+---------+\n",
            "|   mamah.asyraf|              Cek DM|Instagram|\n",
            "|posindonesia.ig|Baik, Sahabat, mo...|Instagram|\n",
            "|akhirini_husein|Kiriman saya tida...|Instagram|\n",
            "|posindonesia.ig|Halo, Sahabat, bi...|Instagram|\n",
            "|         figha_|Pengambilan paket...|Instagram|\n",
            "+---------------+--------------------+---------+\n",
            "only showing top 5 rows\n",
            "\n"
          ]
        }
      ],
      "source": [
        "from pyspark.sql.functions import lit\n",
        "\n",
        "final_instagram = df_instagram_split.withColumn(\"socmed\", lit(\"Instagram\")).select(\"author\", \"comment\", \"socmed\")\n",
        "final_instagram.show(5)"
      ]
    },
    {
      "cell_type": "markdown",
      "metadata": {
        "id": "UQNzNIvAh6Xq"
      },
      "source": [
        "## Combine 2 Twitter DataFrame"
      ]
    },
    {
      "cell_type": "code",
      "execution_count": 19,
      "metadata": {
        "colab": {
          "base_uri": "https://localhost:8080/"
        },
        "id": "rt0FfNRwiCoB",
        "outputId": "1ac29672-809d-46c3-99b7-001daa713ba8"
      },
      "outputs": [
        {
          "name": "stdout",
          "output_type": "stream",
          "text": [
            "root\n",
            " |-- id: double (nullable = true)\n",
            " |-- conversation_id: double (nullable = true)\n",
            " |-- created_at: double (nullable = true)\n",
            " |-- date: string (nullable = true)\n",
            " |-- time: timestamp (nullable = true)\n",
            " |-- timezone: string (nullable = true)\n",
            " |-- user_id: integer (nullable = true)\n",
            " |-- username: string (nullable = true)\n",
            " |-- name: string (nullable = true)\n",
            " |-- place: string (nullable = true)\n",
            " |-- tweet: string (nullable = true)\n",
            " |-- mentions: string (nullable = true)\n",
            " |-- urls: string (nullable = true)\n",
            " |-- photos: string (nullable = true)\n",
            " |-- replies_count: string (nullable = true)\n",
            " |-- retweets_count: string (nullable = true)\n",
            " |-- likes_count: string (nullable = true)\n",
            " |-- hashtags: string (nullable = true)\n",
            " |-- cashtags: string (nullable = true)\n",
            " |-- link: string (nullable = true)\n",
            " |-- retweet: string (nullable = true)\n",
            " |-- quote_url: string (nullable = true)\n",
            " |-- video: string (nullable = true)\n",
            " |-- user_rt_id: string (nullable = true)\n",
            " |-- near: string (nullable = true)\n",
            " |-- geo: string (nullable = true)\n",
            "\n"
          ]
        }
      ],
      "source": [
        "df_twitter_account.printSchema()"
      ]
    },
    {
      "cell_type": "code",
      "execution_count": 20,
      "metadata": {
        "colab": {
          "base_uri": "https://localhost:8080/"
        },
        "id": "WeHB4OohiWa8",
        "outputId": "66c6253e-b2de-4b8d-80c9-c35def50297a"
      },
      "outputs": [
        {
          "name": "stdout",
          "output_type": "stream",
          "text": [
            "+----------+------------+--------------------+\n",
            "|        id|    username|               tweet|\n",
            "+----------+------------+--------------------+\n",
            "| 1.1499E18|posindonesia|Baik sahabat, tel...|\n",
            "| 1.1499E18|posindonesia|Hai sahabat. Kiri...|\n",
            "| 1.1499E18|posindonesia|/ handphone pener...|\n",
            "| 1.1499E18|posindonesia|Hai sahabat, kiri...|\n",
            "|1.14989E18|posindonesia|Oranger menjaga s...|\n",
            "+----------+------------+--------------------+\n",
            "only showing top 5 rows\n",
            "\n"
          ]
        }
      ],
      "source": [
        "selectedColumn_twitter_account = df_twitter_account.select(\"id\", \"username\", \"tweet\") # Take the necessary column\n",
        "selectedColumn_twitter_account.show(5)"
      ]
    },
    {
      "cell_type": "code",
      "execution_count": 21,
      "metadata": {
        "colab": {
          "base_uri": "https://localhost:8080/"
        },
        "id": "f_WH4p8-lyfr",
        "outputId": "349d87b2-e663-4bd9-ce18-a874be578d65"
      },
      "outputs": [
        {
          "name": "stdout",
          "output_type": "stream",
          "text": [
            "+--------+\n",
            "|count(1)|\n",
            "+--------+\n",
            "|   20058|\n",
            "+--------+\n",
            "\n"
          ]
        }
      ],
      "source": [
        "selectedColumn_twitter_account.select(count(\"*\")).show()"
      ]
    },
    {
      "cell_type": "code",
      "execution_count": 22,
      "metadata": {
        "colab": {
          "base_uri": "https://localhost:8080/"
        },
        "id": "TFXKxgyZiHdb",
        "outputId": "ce402f01-c734-4c08-b797-164960741307"
      },
      "outputs": [
        {
          "name": "stdout",
          "output_type": "stream",
          "text": [
            "root\n",
            " |-- id: string (nullable = true)\n",
            " |-- conversation_id: string (nullable = true)\n",
            " |-- created_at: string (nullable = true)\n",
            " |-- date: string (nullable = true)\n",
            " |-- time: string (nullable = true)\n",
            " |-- timezone: string (nullable = true)\n",
            " |-- user_id: double (nullable = true)\n",
            " |-- username: string (nullable = true)\n",
            " |-- name: string (nullable = true)\n",
            " |-- place: string (nullable = true)\n",
            " |-- tweet: string (nullable = true)\n",
            " |-- mentions: string (nullable = true)\n",
            " |-- urls: string (nullable = true)\n",
            " |-- photos: string (nullable = true)\n",
            " |-- replies_count: string (nullable = true)\n",
            " |-- retweets_count: string (nullable = true)\n",
            " |-- likes_count: string (nullable = true)\n",
            " |-- hashtags: string (nullable = true)\n",
            " |-- cashtags: string (nullable = true)\n",
            " |-- link: string (nullable = true)\n",
            " |-- retweet: string (nullable = true)\n",
            " |-- quote_url: string (nullable = true)\n",
            " |-- video: string (nullable = true)\n",
            " |-- user_rt_id: string (nullable = true)\n",
            " |-- near: string (nullable = true)\n",
            " |-- geo: integer (nullable = true)\n",
            "\n"
          ]
        }
      ],
      "source": [
        "df_hashtag_twitter.printSchema()"
      ]
    },
    {
      "cell_type": "code",
      "execution_count": 23,
      "metadata": {
        "colab": {
          "base_uri": "https://localhost:8080/"
        },
        "id": "AjKlUA_diwHZ",
        "outputId": "713225a3-bb03-4760-83fc-b3deed4ff4e0"
      },
      "outputs": [
        {
          "name": "stdout",
          "output_type": "stream",
          "text": [
            "+-------+------------+--------------------+\n",
            "|     id|    username|               tweet|\n",
            "+-------+------------+--------------------+\n",
            "|1.15E18|kantorpospbg|Ada Kiriman Uang?...|\n",
            "|1.15E18|    detikcom|Resi Pos merupaka...|\n",
            "|1.15E18|posindonesia|Oranger, layanan ...|\n",
            "|1.15E18|      k59300|#Repost posindone...|\n",
            "|1.15E18|posindonesia|Kiriman lewat Pos...|\n",
            "+-------+------------+--------------------+\n",
            "only showing top 5 rows\n",
            "\n"
          ]
        },
        {
          "data": {
            "text/plain": [
              "[('id', 'double'), ('username', 'string'), ('tweet', 'string')]"
            ]
          },
          "execution_count": 23,
          "metadata": {},
          "output_type": "execute_result"
        }
      ],
      "source": [
        "df_hashtag_twitter = df_hashtag_twitter.withColumn(\"id\", col(\"id\").cast(\"double\"))\n",
        "selectedColumn_twitter_hashtag = df_hashtag_twitter.select(\"id\", \"username\", \"tweet\") # Take the necessary column\n",
        "selectedColumn_twitter_hashtag.show(5)\n",
        "\n",
        "selectedColumn_twitter_hashtag.dtypes"
      ]
    },
    {
      "cell_type": "code",
      "execution_count": 24,
      "metadata": {
        "colab": {
          "base_uri": "https://localhost:8080/"
        },
        "id": "8l-oUQ7QmCnP",
        "outputId": "d66376e6-e642-4803-dbf8-90f540ea997a"
      },
      "outputs": [
        {
          "name": "stdout",
          "output_type": "stream",
          "text": [
            "+--------+\n",
            "|count(1)|\n",
            "+--------+\n",
            "|   19213|\n",
            "+--------+\n",
            "\n"
          ]
        }
      ],
      "source": [
        "selectedColumn_twitter_hashtag.select(count(\"*\")).show()"
      ]
    },
    {
      "cell_type": "code",
      "execution_count": 26,
      "metadata": {
        "colab": {
          "base_uri": "https://localhost:8080/"
        },
        "id": "fRnIjQLvgpXW",
        "outputId": "545b28ed-fb69-4623-dad1-0b368ed980ec"
      },
      "outputs": [
        {
          "name": "stdout",
          "output_type": "stream",
          "text": [
            "+----------+------------+--------------------+\n",
            "|        id|    username|               tweet|\n",
            "+----------+------------+--------------------+\n",
            "| 1.1499E18|posindonesia|Baik sahabat, tel...|\n",
            "| 1.1499E18|posindonesia|Hai sahabat. Kiri...|\n",
            "| 1.1499E18|posindonesia|/ handphone pener...|\n",
            "| 1.1499E18|posindonesia|Hai sahabat, kiri...|\n",
            "|1.14989E18|posindonesia|Oranger menjaga s...|\n",
            "|1.14987E18|posindonesia|Hai sahabat. Untu...|\n",
            "|1.14986E18|posindonesia|Terima kasih tela...|\n",
            "|1.14985E18|posindonesia|Hai sahabat. Moho...|\n",
            "|1.14984E18|posindonesia|Hai sahabat. Moho...|\n",
            "|1.14984E18|posindonesia|Sama - sama sahab...|\n",
            "|1.14984E18|posindonesia|Hai sahabat. Kiri...|\n",
            "|1.14981E18|posindonesia|biaya pelalubeaan...|\n",
            "|1.14981E18|posindonesia|Halo Sahabat, seb...|\n",
            "|1.14981E18|posindonesia|Berdasarkan hasil...|\n",
            "|1.14977E18|posindonesia|Mohon diinformasi...|\n",
            "|1.14976E18|posindonesia|kami informasikan...|\n",
            "|1.14972E18|posindonesia|Baik Sahabat, Moh...|\n",
            "| 1.1497E18|posindonesia|Halo Sahabat. Moh...|\n",
            "| 1.1497E18|posindonesia|Halo Sahabat pos....|\n",
            "|1.14968E18|posindonesia|Baik sahabat moho...|\n",
            "+----------+------------+--------------------+\n",
            "only showing top 20 rows\n",
            "\n"
          ]
        }
      ],
      "source": [
        "final_twitter = selectedColumn_twitter_account.union(selectedColumn_twitter_hashtag)\n",
        "final_twitter.show()"
      ]
    },
    {
      "cell_type": "code",
      "execution_count": 28,
      "metadata": {
        "colab": {
          "base_uri": "https://localhost:8080/"
        },
        "id": "HGfxgNYriA6z",
        "outputId": "3cc1b7ff-46bf-4c3f-9653-3a850b5e0cff"
      },
      "outputs": [
        {
          "name": "stdout",
          "output_type": "stream",
          "text": [
            "+--------+\n",
            "|count(1)|\n",
            "+--------+\n",
            "|   39271|\n",
            "+--------+\n",
            "\n"
          ]
        }
      ],
      "source": [
        "final_twitter.select(count(\"*\")).show() #20058 + 19213"
      ]
    },
    {
      "cell_type": "code",
      "execution_count": 30,
      "metadata": {
        "colab": {
          "base_uri": "https://localhost:8080/"
        },
        "id": "79pumb7gqg7S",
        "outputId": "e0314437-971f-4bd3-b1bf-0a6205345ab1"
      },
      "outputs": [
        {
          "name": "stdout",
          "output_type": "stream",
          "text": [
            "+------------+--------------------+-------+\n",
            "|    username|               tweet| socmed|\n",
            "+------------+--------------------+-------+\n",
            "|posindonesia|Baik sahabat, tel...|Twitter|\n",
            "|posindonesia|Hai sahabat. Kiri...|Twitter|\n",
            "|posindonesia|/ handphone pener...|Twitter|\n",
            "|posindonesia|Hai sahabat, kiri...|Twitter|\n",
            "|posindonesia|Oranger menjaga s...|Twitter|\n",
            "+------------+--------------------+-------+\n",
            "only showing top 5 rows\n",
            "\n"
          ]
        }
      ],
      "source": [
        "final_twitter = final_twitter.withColumn(\"socmed\", lit(\"Twitter\"))\n",
        "final_twitter = final_twitter.select(\"username\", \"tweet\", 'socmed')\n",
        "final_twitter.show(5)"
      ]
    },
    {
      "cell_type": "markdown",
      "metadata": {
        "id": "oCQt-wF9q0pw"
      },
      "source": [
        "# Combine Twitter & Instagram DataFrame"
      ]
    },
    {
      "cell_type": "code",
      "execution_count": 35,
      "metadata": {
        "colab": {
          "base_uri": "https://localhost:8080/"
        },
        "id": "9aOcfYlTqpXh",
        "outputId": "eb4138ee-7ff0-478b-a049-7249dbaccd0a"
      },
      "outputs": [
        {
          "name": "stdout",
          "output_type": "stream",
          "text": [
            "+------------+--------------------+-------+\n",
            "|    Username|             Content| Source|\n",
            "+------------+--------------------+-------+\n",
            "|posindonesia|Baik sahabat, tel...|Twitter|\n",
            "|posindonesia|Hai sahabat. Kiri...|Twitter|\n",
            "|posindonesia|/ handphone pener...|Twitter|\n",
            "|posindonesia|Hai sahabat, kiri...|Twitter|\n",
            "|posindonesia|Oranger menjaga s...|Twitter|\n",
            "|posindonesia|Hai sahabat. Untu...|Twitter|\n",
            "|posindonesia|Terima kasih tela...|Twitter|\n",
            "|posindonesia|Hai sahabat. Moho...|Twitter|\n",
            "|posindonesia|Hai sahabat. Moho...|Twitter|\n",
            "|posindonesia|Sama - sama sahab...|Twitter|\n",
            "+------------+--------------------+-------+\n",
            "only showing top 10 rows\n",
            "\n"
          ]
        }
      ],
      "source": [
        "final_twitter = final_twitter.withColumnRenamed(\"username\", \"Username\")\\\n",
        "                .withColumnRenamed(\"tweet\", \"Content\")\\\n",
        "                .withColumnRenamed(\"socmed\", \"Source\")\n",
        "final_twitter.show(10)"
      ]
    },
    {
      "cell_type": "code",
      "execution_count": 36,
      "metadata": {
        "colab": {
          "base_uri": "https://localhost:8080/"
        },
        "id": "vaQGgerirG3J",
        "outputId": "ebb58e6b-a675-4855-b677-95d2e4458c7a"
      },
      "outputs": [
        {
          "name": "stdout",
          "output_type": "stream",
          "text": [
            "+---------------+--------------------+---------+\n",
            "|       Username|             Content|   Source|\n",
            "+---------------+--------------------+---------+\n",
            "|   mamah.asyraf|              Cek DM|Instagram|\n",
            "|posindonesia.ig|Baik, Sahabat, mo...|Instagram|\n",
            "|akhirini_husein|Kiriman saya tida...|Instagram|\n",
            "|posindonesia.ig|Halo, Sahabat, bi...|Instagram|\n",
            "|         figha_|Pengambilan paket...|Instagram|\n",
            "|posindonesia.ig|Halo, Sahabat. Mo...|Instagram|\n",
            "|         figha_|@posindonesia.ig ...|Instagram|\n",
            "|posindonesia.ig|Sama-sama Sahabat...|Instagram|\n",
            "|   phytastoreso|Kak tolong cek dm...|Instagram|\n",
            "|posindonesia.ig|Baik, telah kami ...|Instagram|\n",
            "+---------------+--------------------+---------+\n",
            "only showing top 10 rows\n",
            "\n"
          ]
        }
      ],
      "source": [
        "final_instagram = final_instagram.withColumnRenamed(\"author\", \"Username\")\\\n",
        "                .withColumnRenamed(\"comment\", \"Content\")\\\n",
        "                .withColumnRenamed(\"socmed\", \"Source\")\n",
        "final_instagram.show(10)"
      ]
    },
    {
      "cell_type": "code",
      "execution_count": 40,
      "metadata": {
        "colab": {
          "base_uri": "https://localhost:8080/"
        },
        "id": "ayBxGgZ5rIkf",
        "outputId": "fdbf887b-2e1f-41be-a19a-35e6d9d7dcdb"
      },
      "outputs": [
        {
          "name": "stdout",
          "output_type": "stream",
          "text": [
            "+------------+--------------------+-------+\n",
            "|    Username|             Content| Source|\n",
            "+------------+--------------------+-------+\n",
            "|posindonesia|Baik sahabat, tel...|Twitter|\n",
            "|posindonesia|Hai sahabat. Kiri...|Twitter|\n",
            "|posindonesia|/ handphone pener...|Twitter|\n",
            "|posindonesia|Hai sahabat, kiri...|Twitter|\n",
            "|posindonesia|Oranger menjaga s...|Twitter|\n",
            "|posindonesia|Hai sahabat. Untu...|Twitter|\n",
            "|posindonesia|Terima kasih tela...|Twitter|\n",
            "|posindonesia|Hai sahabat. Moho...|Twitter|\n",
            "|posindonesia|Hai sahabat. Moho...|Twitter|\n",
            "|posindonesia|Sama - sama sahab...|Twitter|\n",
            "+------------+--------------------+-------+\n",
            "only showing top 10 rows\n",
            "\n"
          ]
        }
      ],
      "source": [
        "final_df = final_twitter.union(final_instagram)\n",
        "final_df.show(10)"
      ]
    },
    {
      "cell_type": "code",
      "execution_count": 42,
      "metadata": {
        "colab": {
          "base_uri": "https://localhost:8080/"
        },
        "id": "nkYRbmubsXhX",
        "outputId": "1e21cdc4-cfbc-4e53-d861-5a3fb0ba304c"
      },
      "outputs": [
        {
          "name": "stdout",
          "output_type": "stream",
          "text": [
            "+------------+--------------------+-------+\n",
            "|    Username|             Content| Source|\n",
            "+------------+--------------------+-------+\n",
            "|posindonesia|Baik sahabat, tel...|Twitter|\n",
            "|posindonesia|Hai sahabat. Kiri...|Twitter|\n",
            "|posindonesia|/ handphone pener...|Twitter|\n",
            "|posindonesia|Hai sahabat, kiri...|Twitter|\n",
            "|posindonesia|Oranger menjaga s...|Twitter|\n",
            "|posindonesia|Hai sahabat. Untu...|Twitter|\n",
            "|posindonesia|Terima kasih tela...|Twitter|\n",
            "|posindonesia|Hai sahabat. Moho...|Twitter|\n",
            "|posindonesia|Hai sahabat. Moho...|Twitter|\n",
            "|posindonesia|Sama - sama sahab...|Twitter|\n",
            "|posindonesia|Hai sahabat. Kiri...|Twitter|\n",
            "|posindonesia|biaya pelalubeaan...|Twitter|\n",
            "|posindonesia|Halo Sahabat, seb...|Twitter|\n",
            "|posindonesia|Berdasarkan hasil...|Twitter|\n",
            "|posindonesia|Mohon diinformasi...|Twitter|\n",
            "|posindonesia|kami informasikan...|Twitter|\n",
            "|posindonesia|Baik Sahabat, Moh...|Twitter|\n",
            "|posindonesia|Halo Sahabat. Moh...|Twitter|\n",
            "|posindonesia|Halo Sahabat pos....|Twitter|\n",
            "|posindonesia|Baik sahabat moho...|Twitter|\n",
            "+------------+--------------------+-------+\n",
            "only showing top 20 rows\n",
            "\n"
          ]
        }
      ],
      "source": [
        "final_df.select(\"*\").where(final_df['Source'] == \"Twitter\").show()"
      ]
    },
    {
      "cell_type": "code",
      "execution_count": 41,
      "metadata": {
        "colab": {
          "base_uri": "https://localhost:8080/"
        },
        "id": "UJ_ylDLjr7cq",
        "outputId": "cadcc3c6-f6d8-4eae-f3f0-c4392ad99ea1"
      },
      "outputs": [
        {
          "name": "stdout",
          "output_type": "stream",
          "text": [
            "+-------------------+--------------------+---------+\n",
            "|           Username|             Content|   Source|\n",
            "+-------------------+--------------------+---------+\n",
            "|       mamah.asyraf|              Cek DM|Instagram|\n",
            "|    posindonesia.ig|Baik, Sahabat, mo...|Instagram|\n",
            "|    akhirini_husein|Kiriman saya tida...|Instagram|\n",
            "|    posindonesia.ig|Halo, Sahabat, bi...|Instagram|\n",
            "|             figha_|Pengambilan paket...|Instagram|\n",
            "|    posindonesia.ig|Halo, Sahabat. Mo...|Instagram|\n",
            "|             figha_|@posindonesia.ig ...|Instagram|\n",
            "|    posindonesia.ig|Sama-sama Sahabat...|Instagram|\n",
            "|       phytastoreso|Kak tolong cek dm...|Instagram|\n",
            "|    posindonesia.ig|Baik, telah kami ...|Instagram|\n",
            "|             figha_|Kalo mengambil pa...|Instagram|\n",
            "|    rizqimuhammad77|@ari_hr04 @adi047...|Instagram|\n",
            "|griyakulakannganjuk|Kirim paket belum...|Instagram|\n",
            "|             snttaa|Tolong cek STR040...|Instagram|\n",
            "|           widie489|https://ecoracing...|Instagram|\n",
            "|    posindonesia.ig|Boleh diinformasi...|Instagram|\n",
            "|    posindonesia.ig|Menurut investiga...|Instagram|\n",
            "|   keziacatherine.s|Min, bis Surat su...|Instagram|\n",
            "|    posindonesia.ig|Bisa surat masih ...|Instagram|\n",
            "|      audreygraciam|Hi min, tolong li...|Instagram|\n",
            "+-------------------+--------------------+---------+\n",
            "only showing top 20 rows\n",
            "\n"
          ]
        }
      ],
      "source": [
        "final_df.select(\"*\").where(final_df['Source'] == \"Instagram\").show()"
      ]
    },
    {
      "cell_type": "code",
      "execution_count": 46,
      "metadata": {
        "id": "3-HQkNH5tUUz"
      },
      "outputs": [],
      "source": [
        "coalesced_df = final_df.coalesce(1)"
      ]
    },
    {
      "cell_type": "code",
      "execution_count": 48,
      "metadata": {
        "id": "Xc2zkuOKsaRy"
      },
      "outputs": [],
      "source": [
        "coalesced_df.write.json(\"homework_spark_answer_ayman\")"
      ]
    }
  ],
  "metadata": {
    "colab": {
      "provenance": []
    },
    "kernelspec": {
      "display_name": "Python (GPU)",
      "language": "python",
      "name": "gpu_env"
    },
    "language_info": {
      "codemirror_mode": {
        "name": "ipython",
        "version": 3
      },
      "file_extension": ".py",
      "mimetype": "text/x-python",
      "name": "python",
      "nbconvert_exporter": "python",
      "pygments_lexer": "ipython3",
      "version": "3.11.5"
    }
  },
  "nbformat": 4,
  "nbformat_minor": 0
}
